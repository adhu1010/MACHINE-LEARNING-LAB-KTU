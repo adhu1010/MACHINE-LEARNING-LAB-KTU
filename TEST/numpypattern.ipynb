{
 "cells": [
  {
   "cell_type": "markdown",
   "id": "13e478c2-fde3-4677-9375-b1d5c8bda177",
   "metadata": {},
   "source": [
    "#finding patterns"
   ]
  },
  {
   "cell_type": "code",
   "execution_count": null,
   "id": "fef11c65-bb77-48fc-a701-66ec833f61c3",
   "metadata": {},
   "outputs": [],
   "source": [
    "from collections import defaultdict\n",
    "import numpy as np\n",
    "\n",
    "global n \n",
    "n=int(input(\"Enter a dimension :\"))\n",
    "\n",
    "array=np.zeros((n,n))\n",
    "print(\"Enter the values\")\n",
    "for i in range(n):\n",
    "    for j in range(n):\n",
    "        array[i,j]=int(input())\n",
    "print(\"\\n Generated Array\\n\")\n",
    "print(array)\n",
    "\n",
    "def find_pattern(arr):\n",
    "\n",
    "    def find_combinations(line):\n",
    "        combinations=set()\n",
    "        for length in range(2,len(line)+1):\n",
    "            for start in range(len(line-length+1)):\n",
    "                combo=tuple(line[start:start+length])\n",
    "                combinations.add(combo)\n",
    "        return combinations\n",
    "\n",
    "    all_combinations=defaultdict(list)\n",
    "    for i in range(n):\n",
    "        row_combinations =find_combinations(arr[i,:])\n",
    "        for combo in row_combinations:\n",
    "            all_combinations[combo].append(('row',i))\n",
    "\n",
    "    for j in range(n):\n",
    "        col_combinations =find_combinations(arr[:,j])\n",
    "        for combo in row_combinations:\n",
    "            all_combinations[combo].append(('column',j))\n",
    "\n",
    "    for diag in range(-n+2,n-1):\n",
    "        diag_combinations=find_combinations(arr.diagonal(diag))\n",
    "        for combo in diag_combinations:\n",
    "            all_combinations[combo].append((\"main diagonal\",diag))\n",
    "    flipped_array=np.fliplr(arr)        \n",
    "    for diag in range(-n+2,n-1):\n",
    "        anti_diag_combinations=find_combinations(flipped_array.diagonal(diag))\n",
    "        for combo in anti_diag_combinations:\n",
    "            all_combinations[combo].append((\"anti diagonal\",diag))\n",
    "    for combo,locations in all_combinations.items():\n",
    "        if len(locations)>1:\n",
    "            print(f\"Adjacent Combination {combo} found in :\")\n",
    "            for loc in locations:\n",
    "                print(f\"- {loc[0]} - {loc[1]}\")\n",
    "\n",
    "find_pattern(array)"
   ]
  }
 ],
 "metadata": {
  "kernelspec": {
   "display_name": "Python 3 (ipykernel)",
   "language": "python",
   "name": "python3"
  },
  "language_info": {
   "codemirror_mode": {
    "name": "ipython",
    "version": 3
   },
   "file_extension": ".py",
   "mimetype": "text/x-python",
   "name": "python",
   "nbconvert_exporter": "python",
   "pygments_lexer": "ipython3",
   "version": "3.10.12"
  }
 },
 "nbformat": 4,
 "nbformat_minor": 5
}
